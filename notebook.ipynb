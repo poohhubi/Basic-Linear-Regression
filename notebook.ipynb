{
 "cells": [
  {
   "cell_type": "code",
   "metadata": {
    "tags": [],
    "cell_id": "00000-17d6804f-44e8-4229-a4c7-84a0d1ea7c6e",
    "deepnote_to_be_reexecuted": false,
    "source_hash": "bf3fe4f",
    "execution_start": 1634216592675,
    "execution_millis": 1704,
    "deepnote_cell_type": "code"
   },
   "source": "import altair as alt\nimport pandas as pd\n\nfrom sklearn.linear_model import LinearRegression",
   "execution_count": null,
   "outputs": []
  },
  {
   "cell_type": "code",
   "metadata": {
    "tags": [],
    "cell_id": "00001-7261cbc1-d171-406f-8bd4-feae413e2a76",
    "deepnote_to_be_reexecuted": false,
    "source_hash": "86ea54d8",
    "execution_start": 1634216594381,
    "execution_millis": 439,
    "deepnote_cell_type": "code"
   },
   "source": "df = pd.read_csv(\"dataset.csv\")\ndf",
   "execution_count": null,
   "outputs": [
    {
     "output_type": "execute_result",
     "execution_count": 2,
     "data": {
      "application/vnd.deepnote.dataframe.v2+json": {
       "row_count": 9,
       "column_count": 2,
       "columns": [
        {
         "name": "diameter_s",
         "dtype": "float64",
         "stats": {
          "unique_count": 8,
          "nan_count": 0,
          "min": "0.170000002",
          "max": "0.850000024",
          "histogram": [
           {
            "bin_start": 0.170000002,
            "bin_end": 0.2380000042,
            "count": 5
           },
           {
            "bin_start": 0.2380000042,
            "bin_end": 0.3060000064,
            "count": 1
           },
           {
            "bin_start": 0.3060000064,
            "bin_end": 0.3740000086,
            "count": 1
           },
           {
            "bin_start": 0.3740000086,
            "bin_end": 0.44200001079999995,
            "count": 1
           },
           {
            "bin_start": 0.44200001079999995,
            "bin_end": 0.510000013,
            "count": 0
           },
           {
            "bin_start": 0.510000013,
            "bin_end": 0.5780000152,
            "count": 0
           },
           {
            "bin_start": 0.5780000152,
            "bin_end": 0.6460000173999999,
            "count": 0
           },
           {
            "bin_start": 0.6460000173999999,
            "bin_end": 0.7140000195999999,
            "count": 0
           },
           {
            "bin_start": 0.7140000195999999,
            "bin_end": 0.7820000218,
            "count": 0
           },
           {
            "bin_start": 0.7820000218,
            "bin_end": 0.850000024,
            "count": 1
           }
          ]
         }
        },
        {
         "name": "slope_b",
         "dtype": "float64",
         "stats": {
          "unique_count": 9,
          "nan_count": 0,
          "min": "0.629999995",
          "max": "11.30000019",
          "histogram": [
           {
            "bin_start": 0.629999995,
            "bin_end": 1.6970000145,
            "count": 6
           },
           {
            "bin_start": 1.6970000145,
            "bin_end": 2.764000034,
            "count": 0
           },
           {
            "bin_start": 2.764000034,
            "bin_end": 3.8310000535,
            "count": 0
           },
           {
            "bin_start": 3.8310000535,
            "bin_end": 4.898000073,
            "count": 1
           },
           {
            "bin_start": 4.898000073,
            "bin_end": 5.9650000925,
            "count": 0
           },
           {
            "bin_start": 5.9650000925,
            "bin_end": 7.032000112,
            "count": 0
           },
           {
            "bin_start": 7.032000112,
            "bin_end": 8.0990001315,
            "count": 1
           },
           {
            "bin_start": 8.0990001315,
            "bin_end": 9.166000151,
            "count": 0
           },
           {
            "bin_start": 9.166000151,
            "bin_end": 10.2330001705,
            "count": 0
           },
           {
            "bin_start": 10.2330001705,
            "bin_end": 11.30000019,
            "count": 1
           }
          ]
         }
        },
        {
         "name": "_deepnote_index_column",
         "dtype": "int64"
        }
       ],
       "rows_top": [
        {
         "diameter_s": 0.170000002,
         "slope_b": 0.629999995,
         "_deepnote_index_column": 0
        },
        {
         "diameter_s": 0.189999998,
         "slope_b": 0.699999988,
         "_deepnote_index_column": 1
        },
        {
         "diameter_s": 0.219999999,
         "slope_b": 0.819999993,
         "_deepnote_index_column": 2
        },
        {
         "diameter_s": 0.234999999,
         "slope_b": 0.879999995,
         "_deepnote_index_column": 3
        },
        {
         "diameter_s": 0.234999999,
         "slope_b": 1.149999976,
         "_deepnote_index_column": 4
        },
        {
         "diameter_s": 0.300000012,
         "slope_b": 1.5,
         "_deepnote_index_column": 5
        },
        {
         "diameter_s": 0.349999994,
         "slope_b": 4.400000095,
         "_deepnote_index_column": 6
        },
        {
         "diameter_s": 0.419999987,
         "slope_b": 7.300000191,
         "_deepnote_index_column": 7
        },
        {
         "diameter_s": 0.850000024,
         "slope_b": 11.30000019,
         "_deepnote_index_column": 8
        }
       ],
       "rows_bottom": null
      },
      "text/plain": "   diameter_s  slope_b\n0       0.170     0.63\n1       0.190     0.70\n2       0.220     0.82\n3       0.235     0.88\n4       0.235     1.15\n5       0.300     1.50\n6       0.350     4.40\n7       0.420     7.30\n8       0.850    11.30",
      "text/html": "<div>\n<style scoped>\n    .dataframe tbody tr th:only-of-type {\n        vertical-align: middle;\n    }\n\n    .dataframe tbody tr th {\n        vertical-align: top;\n    }\n\n    .dataframe thead th {\n        text-align: right;\n    }\n</style>\n<table border=\"1\" class=\"dataframe\">\n  <thead>\n    <tr style=\"text-align: right;\">\n      <th></th>\n      <th>diameter_s</th>\n      <th>slope_b</th>\n    </tr>\n  </thead>\n  <tbody>\n    <tr>\n      <th>0</th>\n      <td>0.170</td>\n      <td>0.63</td>\n    </tr>\n    <tr>\n      <th>1</th>\n      <td>0.190</td>\n      <td>0.70</td>\n    </tr>\n    <tr>\n      <th>2</th>\n      <td>0.220</td>\n      <td>0.82</td>\n    </tr>\n    <tr>\n      <th>3</th>\n      <td>0.235</td>\n      <td>0.88</td>\n    </tr>\n    <tr>\n      <th>4</th>\n      <td>0.235</td>\n      <td>1.15</td>\n    </tr>\n    <tr>\n      <th>5</th>\n      <td>0.300</td>\n      <td>1.50</td>\n    </tr>\n    <tr>\n      <th>6</th>\n      <td>0.350</td>\n      <td>4.40</td>\n    </tr>\n    <tr>\n      <th>7</th>\n      <td>0.420</td>\n      <td>7.30</td>\n    </tr>\n    <tr>\n      <th>8</th>\n      <td>0.850</td>\n      <td>11.30</td>\n    </tr>\n  </tbody>\n</table>\n</div>"
     },
     "metadata": {}
    }
   ]
  },
  {
   "cell_type": "code",
   "metadata": {
    "tags": [],
    "cell_id": "00002-14d6c97f-21ae-43c2-aade-a5996921bad3",
    "deepnote_to_be_reexecuted": false,
    "source_hash": "e26a5f7f",
    "execution_start": 1634216719509,
    "execution_millis": 8,
    "deepnote_cell_type": "code"
   },
   "source": "X = df[['diameter_s']]\nY = df['slope_b']\nX",
   "execution_count": null,
   "outputs": [
    {
     "output_type": "execute_result",
     "execution_count": 17,
     "data": {
      "application/vnd.deepnote.dataframe.v2+json": {
       "row_count": 9,
       "column_count": 1,
       "columns": [
        {
         "name": "diameter_s",
         "dtype": "float64",
         "stats": {
          "unique_count": 8,
          "nan_count": 0,
          "min": "0.170000002",
          "max": "0.850000024",
          "histogram": [
           {
            "bin_start": 0.170000002,
            "bin_end": 0.2380000042,
            "count": 5
           },
           {
            "bin_start": 0.2380000042,
            "bin_end": 0.3060000064,
            "count": 1
           },
           {
            "bin_start": 0.3060000064,
            "bin_end": 0.3740000086,
            "count": 1
           },
           {
            "bin_start": 0.3740000086,
            "bin_end": 0.44200001079999995,
            "count": 1
           },
           {
            "bin_start": 0.44200001079999995,
            "bin_end": 0.510000013,
            "count": 0
           },
           {
            "bin_start": 0.510000013,
            "bin_end": 0.5780000152,
            "count": 0
           },
           {
            "bin_start": 0.5780000152,
            "bin_end": 0.6460000173999999,
            "count": 0
           },
           {
            "bin_start": 0.6460000173999999,
            "bin_end": 0.7140000195999999,
            "count": 0
           },
           {
            "bin_start": 0.7140000195999999,
            "bin_end": 0.7820000218,
            "count": 0
           },
           {
            "bin_start": 0.7820000218,
            "bin_end": 0.850000024,
            "count": 1
           }
          ]
         }
        },
        {
         "name": "_deepnote_index_column",
         "dtype": "int64"
        }
       ],
       "rows_top": [
        {
         "diameter_s": 0.170000002,
         "_deepnote_index_column": 0
        },
        {
         "diameter_s": 0.189999998,
         "_deepnote_index_column": 1
        },
        {
         "diameter_s": 0.219999999,
         "_deepnote_index_column": 2
        },
        {
         "diameter_s": 0.234999999,
         "_deepnote_index_column": 3
        },
        {
         "diameter_s": 0.234999999,
         "_deepnote_index_column": 4
        },
        {
         "diameter_s": 0.300000012,
         "_deepnote_index_column": 5
        },
        {
         "diameter_s": 0.349999994,
         "_deepnote_index_column": 6
        },
        {
         "diameter_s": 0.419999987,
         "_deepnote_index_column": 7
        },
        {
         "diameter_s": 0.850000024,
         "_deepnote_index_column": 8
        }
       ],
       "rows_bottom": null
      },
      "text/plain": "   diameter_s\n0       0.170\n1       0.190\n2       0.220\n3       0.235\n4       0.235\n5       0.300\n6       0.350\n7       0.420\n8       0.850",
      "text/html": "<div>\n<style scoped>\n    .dataframe tbody tr th:only-of-type {\n        vertical-align: middle;\n    }\n\n    .dataframe tbody tr th {\n        vertical-align: top;\n    }\n\n    .dataframe thead th {\n        text-align: right;\n    }\n</style>\n<table border=\"1\" class=\"dataframe\">\n  <thead>\n    <tr style=\"text-align: right;\">\n      <th></th>\n      <th>diameter_s</th>\n    </tr>\n  </thead>\n  <tbody>\n    <tr>\n      <th>0</th>\n      <td>0.170</td>\n    </tr>\n    <tr>\n      <th>1</th>\n      <td>0.190</td>\n    </tr>\n    <tr>\n      <th>2</th>\n      <td>0.220</td>\n    </tr>\n    <tr>\n      <th>3</th>\n      <td>0.235</td>\n    </tr>\n    <tr>\n      <th>4</th>\n      <td>0.235</td>\n    </tr>\n    <tr>\n      <th>5</th>\n      <td>0.300</td>\n    </tr>\n    <tr>\n      <th>6</th>\n      <td>0.350</td>\n    </tr>\n    <tr>\n      <th>7</th>\n      <td>0.420</td>\n    </tr>\n    <tr>\n      <th>8</th>\n      <td>0.850</td>\n    </tr>\n  </tbody>\n</table>\n</div>"
     },
     "metadata": {}
    }
   ]
  },
  {
   "cell_type": "code",
   "metadata": {
    "tags": [],
    "cell_id": "00003-3a60a8dc-738a-4296-9e80-0cb481731475",
    "deepnote_to_be_reexecuted": false,
    "source_hash": "ed943429",
    "execution_start": 1634216719592,
    "execution_millis": 20,
    "deepnote_output_heights": [
     21.1875
    ],
    "deepnote_cell_type": "code"
   },
   "source": "model = LinearRegression()\nmodel.fit(X,Y)",
   "execution_count": null,
   "outputs": [
    {
     "output_type": "execute_result",
     "execution_count": 18,
     "data": {
      "text/plain": "LinearRegression()"
     },
     "metadata": {}
    }
   ]
  },
  {
   "cell_type": "code",
   "metadata": {
    "tags": [],
    "cell_id": "00004-5e0f6838-8d0c-464e-8dba-aa8eab037d93",
    "deepnote_to_be_reexecuted": false,
    "source_hash": "f0f93405",
    "execution_start": 1634216719761,
    "execution_millis": 1,
    "deepnote_cell_type": "code"
   },
   "source": "print(model.coef_)\nprint(model.intercept_)",
   "execution_count": null,
   "outputs": [
    {
     "name": "stdout",
     "text": "[17.1593689]\n-2.475925048875216\n",
     "output_type": "stream"
    }
   ]
  },
  {
   "cell_type": "code",
   "metadata": {
    "tags": [],
    "cell_id": "00005-76c4f1c8-852d-4ebf-853f-5114e973cbb3",
    "deepnote_to_be_reexecuted": false,
    "source_hash": "ca004419",
    "execution_start": 1634216719980,
    "execution_millis": 6,
    "deepnote_cell_type": "code"
   },
   "source": "Y_pred =model.predict(X)\nresult = pd.DataFrame({\n    'y_true': Y,\n    'y_pred':Y_pred\n})\nresult",
   "execution_count": null,
   "outputs": [
    {
     "output_type": "execute_result",
     "execution_count": 20,
     "data": {
      "application/vnd.deepnote.dataframe.v2+json": {
       "row_count": 9,
       "column_count": 2,
       "columns": [
        {
         "name": "y_true",
         "dtype": "float64",
         "stats": {
          "unique_count": 9,
          "nan_count": 0,
          "min": "0.629999995",
          "max": "11.30000019",
          "histogram": [
           {
            "bin_start": 0.629999995,
            "bin_end": 1.6970000145,
            "count": 6
           },
           {
            "bin_start": 1.6970000145,
            "bin_end": 2.764000034,
            "count": 0
           },
           {
            "bin_start": 2.764000034,
            "bin_end": 3.8310000535,
            "count": 0
           },
           {
            "bin_start": 3.8310000535,
            "bin_end": 4.898000073,
            "count": 1
           },
           {
            "bin_start": 4.898000073,
            "bin_end": 5.9650000925,
            "count": 0
           },
           {
            "bin_start": 5.9650000925,
            "bin_end": 7.032000112,
            "count": 0
           },
           {
            "bin_start": 7.032000112,
            "bin_end": 8.0990001315,
            "count": 1
           },
           {
            "bin_start": 8.0990001315,
            "bin_end": 9.166000151,
            "count": 0
           },
           {
            "bin_start": 9.166000151,
            "bin_end": 10.2330001705,
            "count": 0
           },
           {
            "bin_start": 10.2330001705,
            "bin_end": 11.30000019,
            "count": 1
           }
          ]
         }
        },
        {
         "name": "y_pred",
         "dtype": "float64",
         "stats": {
          "unique_count": 8,
          "nan_count": 0,
          "min": "0.44116769785085674",
          "max": "12.10953892498631",
          "histogram": [
           {
            "bin_start": 0.44116769785085674,
            "bin_end": 1.6080048205644022,
            "count": 5
           },
           {
            "bin_start": 1.6080048205644022,
            "bin_end": 2.7748419432779476,
            "count": 1
           },
           {
            "bin_start": 2.7748419432779476,
            "bin_end": 3.9416790659914933,
            "count": 1
           },
           {
            "bin_start": 3.9416790659914933,
            "bin_end": 5.108516188705039,
            "count": 1
           },
           {
            "bin_start": 5.108516188705039,
            "bin_end": 6.275353311418584,
            "count": 0
           },
           {
            "bin_start": 6.275353311418584,
            "bin_end": 7.442190434132129,
            "count": 0
           },
           {
            "bin_start": 7.442190434132129,
            "bin_end": 8.609027556845675,
            "count": 0
           },
           {
            "bin_start": 8.609027556845675,
            "bin_end": 9.77586467955922,
            "count": 0
           },
           {
            "bin_start": 9.77586467955922,
            "bin_end": 10.942701802272765,
            "count": 0
           },
           {
            "bin_start": 10.942701802272765,
            "bin_end": 12.10953892498631,
            "count": 1
           }
          ]
         }
        },
        {
         "name": "_deepnote_index_column",
         "dtype": "int64"
        }
       ],
       "rows_top": [
        {
         "y_true": 0.629999995,
         "y_pred": 0.44116769785085674,
         "_deepnote_index_column": 0
        },
        {
         "y_true": 0.699999988,
         "y_pred": 0.7843550071436556,
         "_deepnote_index_column": 1
        },
        {
         "y_true": 0.819999993,
         "y_pred": 1.2991360911984362,
         "_deepnote_index_column": 2
        },
        {
         "y_true": 0.879999995,
         "y_pred": 1.5565266246461418,
         "_deepnote_index_column": 3
        },
        {
         "y_true": 1.149999976,
         "y_pred": 1.5565266246461418,
         "_deepnote_index_column": 4
        },
        {
         "y_true": 1.5,
         "y_pred": 2.67188582599133,
         "_deepnote_index_column": 5
        },
        {
         "y_true": 4.400000095,
         "y_pred": 3.529853961948377,
         "_deepnote_index_column": 6
        },
        {
         "y_true": 7.300000191,
         "y_pred": 4.731009664588757,
         "_deepnote_index_column": 7
        },
        {
         "y_true": 11.30000019,
         "y_pred": 12.10953892498631,
         "_deepnote_index_column": 8
        }
       ],
       "rows_bottom": null
      },
      "text/plain": "   y_true     y_pred\n0    0.63   0.441168\n1    0.70   0.784355\n2    0.82   1.299136\n3    0.88   1.556527\n4    1.15   1.556527\n5    1.50   2.671886\n6    4.40   3.529854\n7    7.30   4.731010\n8   11.30  12.109539",
      "text/html": "<div>\n<style scoped>\n    .dataframe tbody tr th:only-of-type {\n        vertical-align: middle;\n    }\n\n    .dataframe tbody tr th {\n        vertical-align: top;\n    }\n\n    .dataframe thead th {\n        text-align: right;\n    }\n</style>\n<table border=\"1\" class=\"dataframe\">\n  <thead>\n    <tr style=\"text-align: right;\">\n      <th></th>\n      <th>y_true</th>\n      <th>y_pred</th>\n    </tr>\n  </thead>\n  <tbody>\n    <tr>\n      <th>0</th>\n      <td>0.63</td>\n      <td>0.441168</td>\n    </tr>\n    <tr>\n      <th>1</th>\n      <td>0.70</td>\n      <td>0.784355</td>\n    </tr>\n    <tr>\n      <th>2</th>\n      <td>0.82</td>\n      <td>1.299136</td>\n    </tr>\n    <tr>\n      <th>3</th>\n      <td>0.88</td>\n      <td>1.556527</td>\n    </tr>\n    <tr>\n      <th>4</th>\n      <td>1.15</td>\n      <td>1.556527</td>\n    </tr>\n    <tr>\n      <th>5</th>\n      <td>1.50</td>\n      <td>2.671886</td>\n    </tr>\n    <tr>\n      <th>6</th>\n      <td>4.40</td>\n      <td>3.529854</td>\n    </tr>\n    <tr>\n      <th>7</th>\n      <td>7.30</td>\n      <td>4.731010</td>\n    </tr>\n    <tr>\n      <th>8</th>\n      <td>11.30</td>\n      <td>12.109539</td>\n    </tr>\n  </tbody>\n</table>\n</div>"
     },
     "metadata": {}
    }
   ]
  },
  {
   "cell_type": "code",
   "metadata": {
    "tags": [],
    "cell_id": "00007-5651edaa-540e-4d48-9f09-8fc210fa687c",
    "deepnote_to_be_reexecuted": false,
    "source_hash": "dae8b6de",
    "execution_start": 1634216723424,
    "execution_millis": 27,
    "deepnote_output_heights": [
     361
    ],
    "deepnote_cell_type": "code"
   },
   "source": "point_plot = alt.Chart(df).mark_circle().encode(\n    alt.X('diameter_s'),\n    alt.Y('slope_b')\n)\nline = pd.DataFrame({\n    'diameter_s':[model.intercept_*-1/model.coef_,1],\n    'slope_b':[0,model.intercept_+model.coef_]\n})\nline_plot = alt.Chart(line).mark_line(color='red').encode(\n    x='diameter_s',\n    y='slope_b'\n)\npoint_plot+line_plot",
   "execution_count": null,
   "outputs": [
    {
     "output_type": "execute_result",
     "execution_count": 21,
     "data": {
      "text/html": "\n<div id=\"altair-viz-40c7a8f272d6474d9bdb01327b1cf81e\"></div>\n<script type=\"text/javascript\">\n  (function(spec, embedOpt){\n    let outputDiv = document.currentScript.previousElementSibling;\n    if (outputDiv.id !== \"altair-viz-40c7a8f272d6474d9bdb01327b1cf81e\") {\n      outputDiv = document.getElementById(\"altair-viz-40c7a8f272d6474d9bdb01327b1cf81e\");\n    }\n    const paths = {\n      \"vega\": \"https://cdn.jsdelivr.net/npm//vega@5?noext\",\n      \"vega-lib\": \"https://cdn.jsdelivr.net/npm//vega-lib?noext\",\n      \"vega-lite\": \"https://cdn.jsdelivr.net/npm//vega-lite@4.8.1?noext\",\n      \"vega-embed\": \"https://cdn.jsdelivr.net/npm//vega-embed@6?noext\",\n    };\n\n    function loadScript(lib) {\n      return new Promise(function(resolve, reject) {\n        var s = document.createElement('script');\n        s.src = paths[lib];\n        s.async = true;\n        s.onload = () => resolve(paths[lib]);\n        s.onerror = () => reject(`Error loading script: ${paths[lib]}`);\n        document.getElementsByTagName(\"head\")[0].appendChild(s);\n      });\n    }\n\n    function showError(err) {\n      outputDiv.innerHTML = `<div class=\"error\" style=\"color:red;\">${err}</div>`;\n      throw err;\n    }\n\n    function displayChart(vegaEmbed) {\n      vegaEmbed(outputDiv, spec, embedOpt)\n        .catch(err => showError(`Javascript Error: ${err.message}<br>This usually means there's a typo in your chart specification. See the javascript console for the full traceback.`));\n    }\n\n    if(typeof define === \"function\" && define.amd) {\n      requirejs.config({paths});\n      require([\"vega-embed\"], displayChart, err => showError(`Error loading script: ${err.message}`));\n    } else if (typeof vegaEmbed === \"function\") {\n      displayChart(vegaEmbed);\n    } else {\n      loadScript(\"vega\")\n        .then(() => loadScript(\"vega-lite\"))\n        .then(() => loadScript(\"vega-embed\"))\n        .catch(showError)\n        .then(() => displayChart(vegaEmbed));\n    }\n  })({\"config\": {\"view\": {\"continuousWidth\": 400, \"continuousHeight\": 300}}, \"layer\": [{\"data\": {\"name\": \"data-42f52ccf5712d329f4bada79c7498d7a\"}, \"mark\": \"circle\", \"encoding\": {\"x\": {\"type\": \"quantitative\", \"field\": \"diameter_s\"}, \"y\": {\"type\": \"quantitative\", \"field\": \"slope_b\"}}}, {\"data\": {\"name\": \"data-56a12f2cdcab4d26a274ca812fc999af\"}, \"mark\": {\"type\": \"line\", \"color\": \"red\"}, \"encoding\": {\"x\": {\"type\": \"quantitative\", \"field\": \"diameter_s\"}, \"y\": {\"type\": \"quantitative\", \"field\": \"slope_b\"}}}], \"$schema\": \"https://vega.github.io/schema/vega-lite/v4.8.1.json\", \"datasets\": {\"data-42f52ccf5712d329f4bada79c7498d7a\": [{\"diameter_s\": 0.170000002, \"slope_b\": 0.629999995}, {\"diameter_s\": 0.189999998, \"slope_b\": 0.699999988}, {\"diameter_s\": 0.219999999, \"slope_b\": 0.819999993}, {\"diameter_s\": 0.234999999, \"slope_b\": 0.879999995}, {\"diameter_s\": 0.234999999, \"slope_b\": 1.149999976}, {\"diameter_s\": 0.300000012, \"slope_b\": 1.5}, {\"diameter_s\": 0.349999994, \"slope_b\": 4.400000095}, {\"diameter_s\": 0.419999987, \"slope_b\": 7.300000191}, {\"diameter_s\": 0.850000024, \"slope_b\": 11.30000019}], \"data-56a12f2cdcab4d26a274ca812fc999af\": [{\"diameter_s\": [0.14428998314607303], \"slope_b\": 0}, {\"diameter_s\": 1, \"slope_b\": [14.683443847638518]}]}}, {\"mode\": \"vega-lite\"});\n</script>",
      "text/plain": "alt.LayerChart(...)"
     },
     "metadata": {}
    }
   ]
  },
  {
   "cell_type": "code",
   "metadata": {
    "tags": [],
    "cell_id": "00007-be813c7b-6f60-49d2-8ffe-fcfff3a1330d",
    "deepnote_to_be_reexecuted": false,
    "source_hash": "91a0fe8b",
    "execution_start": 1634216723800,
    "execution_millis": 3,
    "deepnote_cell_type": "code"
   },
   "source": "from sklearn.metrics import r2_score , mean_squared_error",
   "execution_count": null,
   "outputs": []
  },
  {
   "cell_type": "code",
   "metadata": {
    "tags": [],
    "cell_id": "00008-97cce93c-5fe9-475b-b6b1-4485ab71fdc3",
    "deepnote_to_be_reexecuted": false,
    "source_hash": "ba73fca",
    "execution_start": 1634216725184,
    "execution_millis": 11,
    "deepnote_cell_type": "code"
   },
   "source": "print('Root Mean Squared error (RSME): %.2f'\n    % mean_squared_error(Y,Y_pred,squared=False))\nprint('R^2: %.2f'\n    % r2_score(Y,Y_pred))",
   "execution_count": null,
   "outputs": [
    {
     "name": "stdout",
     "text": "Root Mean Squared error (RSME): 1.07\nR^2: 0.91\n",
     "output_type": "stream"
    }
   ]
  },
  {
   "cell_type": "code",
   "metadata": {
    "tags": [],
    "cell_id": "00009-df108dd8-c0bc-43ed-b850-b7e3171d07df",
    "deepnote_to_be_reexecuted": false,
    "source_hash": "b623e53d",
    "execution_start": 1634216595008,
    "execution_millis": 4,
    "deepnote_cell_type": "code"
   },
   "source": "",
   "execution_count": null,
   "outputs": []
  },
  {
   "cell_type": "markdown",
   "source": "<a style='text-decoration:none;line-height:16px;display:flex;color:#5B5B62;padding:10px;justify-content:end;' href='https://deepnote.com?utm_source=created-in-deepnote-cell&projectId=23a839b8-d07c-4066-9755-caf3c086e047' target=\"_blank\">\n<img alt='Created in deepnote.com' style='display:inline;max-height:16px;margin:0px;margin-right:7.5px;' src='data:image/svg+xml;base64,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' > </img>\nCreated in <span style='font-weight:600;margin-left:4px;'>Deepnote</span></a>",
   "metadata": {
    "tags": [],
    "created_in_deepnote_cell": true,
    "deepnote_cell_type": "markdown"
   }
  }
 ],
 "nbformat": 4,
 "nbformat_minor": 2,
 "metadata": {
  "orig_nbformat": 2,
  "deepnote": {
   "is_reactive": false
  },
  "deepnote_notebook_id": "94752cb9-10bd-480b-b9a0-cac60f8fc064",
  "deepnote_execution_queue": []
 }
}